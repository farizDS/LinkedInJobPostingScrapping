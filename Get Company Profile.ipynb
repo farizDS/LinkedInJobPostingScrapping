{
 "cells": [
  {
   "cell_type": "markdown",
   "metadata": {},
   "source": [
    "# add number of employee in the company"
   ]
  },
  {
   "cell_type": "code",
   "execution_count": 7,
   "metadata": {},
   "outputs": [],
   "source": [
    "import pandas as pd\n",
    "import time\n",
    "from selenium import webdriver"
   ]
  },
  {
   "cell_type": "markdown",
   "metadata": {},
   "source": [
    "# add our job datafile "
   ]
  },
  {
   "cell_type": "code",
   "execution_count": 2,
   "metadata": {},
   "outputs": [],
   "source": [
    "job_data = pd.read_excel(\"Job_data_data scientist.xlsx\")"
   ]
  },
  {
   "cell_type": "markdown",
   "metadata": {},
   "source": [
    "# open our webdriver"
   ]
  },
  {
   "cell_type": "code",
   "execution_count": 3,
   "metadata": {},
   "outputs": [],
   "source": [
    "\n",
    "wd = webdriver.Edge(executable_path=\"./msedgedriver.exe\")\n"
   ]
  },
  {
   "cell_type": "markdown",
   "metadata": {},
   "source": [
    "# login to linkedin"
   ]
  },
  {
   "cell_type": "code",
   "execution_count": null,
   "metadata": {},
   "outputs": [],
   "source": [
    "userName = \"\"\n",
    "password = \"\""
   ]
  },
  {
   "cell_type": "code",
   "execution_count": 4,
   "metadata": {},
   "outputs": [],
   "source": [
    "wd.get('https://www.linkedin.com/login')\n",
    "\n",
    "nameidElem = wd.find_element_by_id('username')\n",
    "nameidElem.send_keys(userName)\n",
    "\n",
    "pwdidElem = wd.find_element_by_id('password')\n",
    "pwdidElem.send_keys(password)\n",
    "\n",
    "sign_in = wd.find_element_by_xpath('//*[@id=\"organic-div\"]/form/div[3]/button').click()"
   ]
  },
  {
   "cell_type": "markdown",
   "metadata": {},
   "source": [
    "# function to get the number of employee in a company"
   ]
  },
  {
   "cell_type": "code",
   "execution_count": 8,
   "metadata": {},
   "outputs": [],
   "source": [
    "def get_num_employee(url):\n",
    "    if url == \"NA\":\n",
    "        num_employee = url\n",
    "    \n",
    "    else:\n",
    "        try:\n",
    "            wd.get(url)\n",
    "            num_employee = wd.find_element_by_css_selector('[class=\"org-about-company-module__company-size-definition-text t-14 t-black--light mb1 fl\"]').get_attribute(\"innerText\")\n",
    "        except:\n",
    "            href_list = wd.find_elements_by_css_selector('a')\n",
    "            for href in href_list:\n",
    "                link = href.get_attribute(\"href\")\n",
    "                if (\"about\" in link) and (\"linkedin\" in link) :\n",
    "                    wd.get(href.get_attribute(\"href\"))\n",
    "                    time.sleep(5) \n",
    "                    num_employee = wd.find_element_by_css_selector('[class=\"org-about-company-module__company-size-definition-text t-14 t-black--light mb1 fl\"]').get_attribute(\"innerText\")\n",
    "                    break\n",
    "                else:\n",
    "                    continue\n",
    "                \n",
    "    return num_employee"
   ]
  },
  {
   "cell_type": "markdown",
   "metadata": {},
   "source": [
    "# add new column \"Employee Size\" to our current job data"
   ]
  },
  {
   "cell_type": "code",
   "execution_count": 9,
   "metadata": {},
   "outputs": [],
   "source": [
    "job_data[\"Employee_Size\"] = job_data[\"Company_Link\"].apply(get_num_employee)"
   ]
  },
  {
   "cell_type": "code",
   "execution_count": 10,
   "metadata": {},
   "outputs": [
    {
     "data": {
      "text/html": [
       "<div>\n",
       "<style scoped>\n",
       "    .dataframe tbody tr th:only-of-type {\n",
       "        vertical-align: middle;\n",
       "    }\n",
       "\n",
       "    .dataframe tbody tr th {\n",
       "        vertical-align: top;\n",
       "    }\n",
       "\n",
       "    .dataframe thead th {\n",
       "        text-align: right;\n",
       "    }\n",
       "</style>\n",
       "<table border=\"1\" class=\"dataframe\">\n",
       "  <thead>\n",
       "    <tr style=\"text-align: right;\">\n",
       "      <th></th>\n",
       "      <th>ID</th>\n",
       "      <th>Date</th>\n",
       "      <th>Company</th>\n",
       "      <th>Title</th>\n",
       "      <th>Location</th>\n",
       "      <th>Description</th>\n",
       "      <th>Level</th>\n",
       "      <th>num_Applicant</th>\n",
       "      <th>Type</th>\n",
       "      <th>Job_Link</th>\n",
       "      <th>Company_Link</th>\n",
       "      <th>Function</th>\n",
       "      <th>Industries</th>\n",
       "      <th>Employee_Size</th>\n",
       "    </tr>\n",
       "  </thead>\n",
       "  <tbody>\n",
       "    <tr>\n",
       "      <th>0</th>\n",
       "      <td>2495155469</td>\n",
       "      <td>2021-03-31</td>\n",
       "      <td>Traveloka</td>\n",
       "      <td>Data Scientist</td>\n",
       "      <td>Jakarta, Jakarta, Indonesia</td>\n",
       "      <td>Given a business problem and requirements from...</td>\n",
       "      <td>Entry level</td>\n",
       "      <td>46 applicants</td>\n",
       "      <td>Full-time</td>\n",
       "      <td>https://id.linkedin.com/jobs/view/data-scienti...</td>\n",
       "      <td>https://id.linkedin.com/company/traveloka-com?...</td>\n",
       "      <td>Engineering,Information Technology</td>\n",
       "      <td>Internet</td>\n",
       "      <td>1,001-5,000 employees</td>\n",
       "    </tr>\n",
       "    <tr>\n",
       "      <th>1</th>\n",
       "      <td>2466698262</td>\n",
       "      <td>2021-04-03</td>\n",
       "      <td>QuantumBlack</td>\n",
       "      <td>Data Scientist - QuantumBlack</td>\n",
       "      <td>Jakarta, Jakarta, Indonesia</td>\n",
       "      <td>Apply Now  Qualifications  Bachelor or MSc or ...</td>\n",
       "      <td>Executive</td>\n",
       "      <td>42 applicants</td>\n",
       "      <td>Full-time</td>\n",
       "      <td>https://id.linkedin.com/jobs/view/data-scienti...</td>\n",
       "      <td>https://uk.linkedin.com/company/quantumblack?t...</td>\n",
       "      <td>Consulting,Information Technology,Analyst</td>\n",
       "      <td>Information Technology and Services,Computer S...</td>\n",
       "      <td>201-500 employees</td>\n",
       "    </tr>\n",
       "    <tr>\n",
       "      <th>2</th>\n",
       "      <td>2479097487</td>\n",
       "      <td>2021-04-07</td>\n",
       "      <td>Tokopedia</td>\n",
       "      <td>Data Science Lead</td>\n",
       "      <td>Jakarta, Indonesia</td>\n",
       "      <td>Job Description:  Engaging with business teams...</td>\n",
       "      <td>Mid-Senior level</td>\n",
       "      <td>78 applicants</td>\n",
       "      <td>Full-time</td>\n",
       "      <td>https://id.linkedin.com/jobs/view/data-science...</td>\n",
       "      <td>https://id.linkedin.com/company/pt--tokopedia?...</td>\n",
       "      <td>Analyst,Science</td>\n",
       "      <td>Internet</td>\n",
       "      <td>1,001-5,000 employees</td>\n",
       "    </tr>\n",
       "    <tr>\n",
       "      <th>3</th>\n",
       "      <td>2479941826</td>\n",
       "      <td>2021-04-08</td>\n",
       "      <td>PT. XL Axiata Tbk</td>\n",
       "      <td>Sr. Data Scientist - CVM</td>\n",
       "      <td>Jakarta, Indonesia</td>\n",
       "      <td>Roles :  Lead the development of predictive cu...</td>\n",
       "      <td>Associate</td>\n",
       "      <td>90 applicants</td>\n",
       "      <td>Full-time</td>\n",
       "      <td>https://id.linkedin.com/jobs/view/sr-data-scie...</td>\n",
       "      <td>https://id.linkedin.com/company/pt.-xl-axiata-...</td>\n",
       "      <td>Analyst,Marketing,Business Development</td>\n",
       "      <td>Telecommunications,Internet,Computer &amp; Network...</td>\n",
       "      <td>1,001-5,000 employees</td>\n",
       "    </tr>\n",
       "    <tr>\n",
       "      <th>4</th>\n",
       "      <td>2463401542</td>\n",
       "      <td>2021-03-16</td>\n",
       "      <td>FNA</td>\n",
       "      <td>Data Scientist - Remote</td>\n",
       "      <td>Jakarta, Jakarta, Indonesia</td>\n",
       "      <td>Title: Data Scientist  Location: Remotely from...</td>\n",
       "      <td>Executive</td>\n",
       "      <td>112 applicants</td>\n",
       "      <td>Full-time</td>\n",
       "      <td>https://id.linkedin.com/jobs/view/data-scienti...</td>\n",
       "      <td>https://uk.linkedin.com/company/fnalab?trk=pub...</td>\n",
       "      <td>Engineering,Information Technology</td>\n",
       "      <td>Information Technology and Services,Computer S...</td>\n",
       "      <td>11-50 employees</td>\n",
       "    </tr>\n",
       "  </tbody>\n",
       "</table>\n",
       "</div>"
      ],
      "text/plain": [
       "           ID        Date            Company                          Title  \\\n",
       "0  2495155469  2021-03-31          Traveloka                 Data Scientist   \n",
       "1  2466698262  2021-04-03       QuantumBlack  Data Scientist - QuantumBlack   \n",
       "2  2479097487  2021-04-07          Tokopedia              Data Science Lead   \n",
       "3  2479941826  2021-04-08  PT. XL Axiata Tbk       Sr. Data Scientist - CVM   \n",
       "4  2463401542  2021-03-16                FNA        Data Scientist - Remote   \n",
       "\n",
       "                      Location  \\\n",
       "0  Jakarta, Jakarta, Indonesia   \n",
       "1  Jakarta, Jakarta, Indonesia   \n",
       "2           Jakarta, Indonesia   \n",
       "3           Jakarta, Indonesia   \n",
       "4  Jakarta, Jakarta, Indonesia   \n",
       "\n",
       "                                         Description             Level  \\\n",
       "0  Given a business problem and requirements from...       Entry level   \n",
       "1  Apply Now  Qualifications  Bachelor or MSc or ...         Executive   \n",
       "2  Job Description:  Engaging with business teams...  Mid-Senior level   \n",
       "3  Roles :  Lead the development of predictive cu...         Associate   \n",
       "4  Title: Data Scientist  Location: Remotely from...         Executive   \n",
       "\n",
       "    num_Applicant       Type  \\\n",
       "0   46 applicants  Full-time   \n",
       "1   42 applicants  Full-time   \n",
       "2   78 applicants  Full-time   \n",
       "3   90 applicants  Full-time   \n",
       "4  112 applicants  Full-time   \n",
       "\n",
       "                                            Job_Link  \\\n",
       "0  https://id.linkedin.com/jobs/view/data-scienti...   \n",
       "1  https://id.linkedin.com/jobs/view/data-scienti...   \n",
       "2  https://id.linkedin.com/jobs/view/data-science...   \n",
       "3  https://id.linkedin.com/jobs/view/sr-data-scie...   \n",
       "4  https://id.linkedin.com/jobs/view/data-scienti...   \n",
       "\n",
       "                                        Company_Link  \\\n",
       "0  https://id.linkedin.com/company/traveloka-com?...   \n",
       "1  https://uk.linkedin.com/company/quantumblack?t...   \n",
       "2  https://id.linkedin.com/company/pt--tokopedia?...   \n",
       "3  https://id.linkedin.com/company/pt.-xl-axiata-...   \n",
       "4  https://uk.linkedin.com/company/fnalab?trk=pub...   \n",
       "\n",
       "                                    Function  \\\n",
       "0         Engineering,Information Technology   \n",
       "1  Consulting,Information Technology,Analyst   \n",
       "2                            Analyst,Science   \n",
       "3     Analyst,Marketing,Business Development   \n",
       "4         Engineering,Information Technology   \n",
       "\n",
       "                                          Industries          Employee_Size  \n",
       "0                                           Internet  1,001-5,000 employees  \n",
       "1  Information Technology and Services,Computer S...      201-500 employees  \n",
       "2                                           Internet  1,001-5,000 employees  \n",
       "3  Telecommunications,Internet,Computer & Network...  1,001-5,000 employees  \n",
       "4  Information Technology and Services,Computer S...        11-50 employees  "
      ]
     },
     "execution_count": 10,
     "metadata": {},
     "output_type": "execute_result"
    }
   ],
   "source": [
    "job_data.head()"
   ]
  },
  {
   "cell_type": "markdown",
   "metadata": {},
   "source": [
    "# save/export to json/excel"
   ]
  },
  {
   "cell_type": "code",
   "execution_count": 11,
   "metadata": {},
   "outputs": [],
   "source": [
    "job_data.to_json(\"job_data.json\")"
   ]
  },
  {
   "cell_type": "code",
   "execution_count": 13,
   "metadata": {},
   "outputs": [],
   "source": [
    "job_data.to_excel(\"job_data.xlsx\", index=False)"
   ]
  },
  {
   "cell_type": "code",
   "execution_count": null,
   "metadata": {},
   "outputs": [],
   "source": []
  }
 ],
 "metadata": {
  "kernelspec": {
   "display_name": "Python 3",
   "language": "python",
   "name": "python3"
  },
  "language_info": {
   "codemirror_mode": {
    "name": "ipython",
    "version": 3
   },
   "file_extension": ".py",
   "mimetype": "text/x-python",
   "name": "python",
   "nbconvert_exporter": "python",
   "pygments_lexer": "ipython3",
   "version": "3.8.5"
  }
 },
 "nbformat": 4,
 "nbformat_minor": 4
}
