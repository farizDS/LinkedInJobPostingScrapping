{
 "cells": [
  {
   "cell_type": "code",
   "execution_count": 1,
   "metadata": {},
   "outputs": [],
   "source": [
    "from selenium import webdriver\n",
    "from collections import defaultdict"
   ]
  },
  {
   "cell_type": "code",
   "execution_count": 2,
   "metadata": {},
   "outputs": [],
   "source": [
    "import time\n",
    "import pandas as pd"
   ]
  },
  {
   "cell_type": "code",
   "execution_count": 81,
   "metadata": {},
   "outputs": [],
   "source": [
    "url = \"https://www.linkedin.com/jobs/search?keywords=Data%20Scientist&location=Toronto%2C%20Ontario%2C%20Canada&geoId=100025096&trk=public_jobs_jobs-search-bar_search-submit&redirect=false&position=1&pageNum=0\""
   ]
  },
  {
   "cell_type": "code",
   "execution_count": 83,
   "metadata": {},
   "outputs": [],
   "source": [
    "wd = webdriver.Edge(executable_path=\"./msedgedriver.exe\")\n",
    "wd.get(url)"
   ]
  },
  {
   "cell_type": "code",
   "execution_count": 84,
   "metadata": {},
   "outputs": [],
   "source": [
    "no_of_jobs = int(wd.find_element_by_css_selector(\"h1>span\").get_attribute(\"innerText\"))"
   ]
  },
  {
   "cell_type": "code",
   "execution_count": 85,
   "metadata": {},
   "outputs": [
    {
     "data": {
      "text/plain": [
       "478"
      ]
     },
     "execution_count": 85,
     "metadata": {},
     "output_type": "execute_result"
    }
   ],
   "source": [
    "no_of_jobs"
   ]
  },
  {
   "cell_type": "code",
   "execution_count": 77,
   "metadata": {},
   "outputs": [],
   "source": [
    "i = 2\n",
    "while i <= int(no_of_jobs/25)+1: \n",
    "    wd.execute_script(\"window.scrollTo(0, document.body.scrollHeight);\")\n",
    "    i = i + 1\n",
    "    try:\n",
    "        wd.find_element_by_xpath('/html/body/main/div/section/button').click()\n",
    "        time.sleep(5)\n",
    "    except:\n",
    "        pass\n",
    "        time.sleep(5)"
   ]
  },
  {
   "cell_type": "code",
   "execution_count": 5,
   "metadata": {},
   "outputs": [],
   "source": [
    "jobs_lists = wd.find_element_by_class_name('jobs-search__results-list')\n",
    "jobs = jobs_lists.find_elements_by_tag_name('li') # return a list"
   ]
  },
  {
   "cell_type": "code",
   "execution_count": 80,
   "metadata": {},
   "outputs": [
    {
     "data": {
      "text/plain": [
       "447"
      ]
     },
     "execution_count": 80,
     "metadata": {},
     "output_type": "execute_result"
    }
   ],
   "source": [
    "len(jobs)"
   ]
  },
  {
   "cell_type": "code",
   "execution_count": 91,
   "metadata": {},
   "outputs": [],
   "source": [
    "job_link_test= []\n",
    "company_link=[]"
   ]
  },
  {
   "cell_type": "code",
   "execution_count": 94,
   "metadata": {},
   "outputs": [],
   "source": [
    "for job in jobs[0:1]:\n",
    "    #job_id0 = job.get_attribute('data-id')\n",
    "    #job_id.append(job_id0)\n",
    "\n",
    "    #job_title0 = job.find_element_by_css_selector('h3').get_attribute('innerText')\n",
    "    #job_title.append(job_title0)\n",
    "\n",
    "    #company_name0 = job.find_element_by_css_selector('h4').get_attribute('innerText')\n",
    "    #company_name.append(company_name0)\n",
    "\n",
    "    #location0 = job.find_element_by_css_selector('[class=\"job-result-card__location\"]').get_attribute('innerText')\n",
    "    #location.append(location0)\n",
    "    \n",
    "    #date0 = job.find_element_by_css_selector('div>div>time').get_attribute('datetime')\n",
    "    #date.append(date0)\n",
    "\n",
    "    job_link0 = job.find_element_by_css_selector('a').get_attribute('href')\n",
    "    job_link_test.append(job_link0)\n",
    "    \n",
    "    job_click_path = f'/html/body/main/div/section[2]/ul/li[{jobs.index(job)+1}]/img'\n",
    "    job_click = job.find_element_by_xpath(job_click_path).click()\n",
    "    time.sleep(5)\n",
    "    \n",
    "    company_path =  '/html/body/main/section/div[2]/section[1]/div[1]//div[1]/h3[1]/span[1]'\n",
    "    company_link0 = job.find_element_by_xpath(company_path).get_attribute('innerText')\n",
    "    company_link.append(company_link0)"
   ]
  },
  {
   "cell_type": "code",
   "execution_count": 102,
   "metadata": {},
   "outputs": [
    {
     "name": "stdout",
     "output_type": "stream",
     "text": [
      "https://ca.linkedin.com/jobs/view/research-data-scientist-at-rbc-capital-markets-2470598284?refId=c69390d3-b3ea-43cd-9e23-3f781e0fa59e&trackingId=1XTlqaNkr0WCGk3ZsCeBIA%3D%3D&position=1&pageNum=0&trk=public_jobs_job-result-card_result-card_full-click\n",
      "https://ca.linkedin.com/company/rbc-capital-markets?trk=public_jobs_job-result-card_result-card_subtitle-click\n"
     ]
    }
   ],
   "source": [
    "for ob in job.find_elements_by_css_selector('a'):\n",
    "    print(ob.get_attribute('href'))"
   ]
  },
  {
   "cell_type": "code",
   "execution_count": 90,
   "metadata": {},
   "outputs": [
    {
     "data": {
      "text/plain": [
       "<selenium.webdriver.remote.webelement.WebElement (session=\"445e220866212a66f086e33fd31b03dc\", element=\"8c5f9094-23d2-4744-a614-4768eaf66f2e\")>"
      ]
     },
     "execution_count": 90,
     "metadata": {},
     "output_type": "execute_result"
    }
   ],
   "source": [
    "job.find_element_by_css_selector('a')"
   ]
  },
  {
   "cell_type": "code",
   "execution_count": 105,
   "metadata": {},
   "outputs": [],
   "source": [
    "job_id= []\n",
    "job_title = []\n",
    "company_name = []\n",
    "location = []\n",
    "date = []\n",
    "job_link = []\n",
    "company_link=[]\n",
    "jd = []\n",
    "job_pay = []\n",
    "seniority = []\n",
    "emp_type = []\n",
    "job_func = defaultdict()\n",
    "industries = defaultdict()\n",
    "applicant_num=[]\n",
    "for job in jobs[0:50]:\n",
    "    job_id0 = job.get_attribute('data-id')\n",
    "    job_id.append(job_id0)\n",
    "\n",
    "    job_title0 = job.find_element_by_css_selector('h3').get_attribute('innerText')\n",
    "    job_title.append(job_title0)\n",
    "\n",
    "    company_name0 = job.find_element_by_css_selector('h4').get_attribute('innerText')\n",
    "    company_name.append(company_name0)\n",
    "\n",
    "    location0 = job.find_element_by_css_selector('[class=\"job-result-card__location\"]').get_attribute('innerText')\n",
    "    location.append(location0)\n",
    "\n",
    "    date0 = job.find_element_by_css_selector('div>div>time').get_attribute('datetime')\n",
    "    date.append(date0)\n",
    "\n",
    "    job_links = job.find_elements_by_css_selector('a')\n",
    "    try:\n",
    "        company_link.append(job_links[1].get_attribute('href'))\n",
    "    except:\n",
    "        company_link.append(\"NA\")\n",
    "        \n",
    "    job_link.append(job_links[0].get_attribute('href'))\n",
    "    #for item in range(len(jobs)):\n",
    "    \n",
    "    # clicking job to view job details\n",
    "    job_click_path = f'/html/body/main/div/section[2]/ul/li[{jobs.index(job)+1}]/img'\n",
    "    job_click = job.find_element_by_xpath(job_click_path).click()\n",
    "    time.sleep(5)\n",
    "    \n",
    "    try:\n",
    "        applicant_path = '/html/body/main/section/div[2]/section[1]/div[1]//div[1]/h3[2]/figure/figcaption'\n",
    "        applicant = job.find_element_by_xpath(applicant_path).get_attribute('innerText')\n",
    "        \n",
    "    except:\n",
    "        try:\n",
    "            #print(company_name0)\n",
    "            applicant_path = '/html/body/main/section/div[2]/section[1]/div[1]/div[1]/h3[2]/span[2]'\n",
    "            applicant = job.find_element_by_xpath(applicant_path).get_attribute('innerText')\n",
    "        except:\n",
    "            applicant_path = '/html/body/main/section/div[2]/section[1]/div[1]/div[1]/h3[3]/figure/figcaption'\n",
    "            applicant = job.find_element_by_xpath(applicant_path).get_attribute('innerText')\n",
    "        \n",
    "    applicant_num.append(applicant)    \n",
    "\n",
    "    jd_path = '/html/body/main/section/div[2]/section[2]/div'\n",
    "    jd0 = job.find_element_by_xpath(jd_path).get_attribute('innerText')\n",
    "    \n",
    "    if \"Base pay range\" in jd0:\n",
    "        order_=3\n",
    "        jd_path = '/html/body/main/section/div[2]/section[3]/div'\n",
    "        jd0 = job.find_element_by_xpath(jd_path).get_attribute('innerText')\n",
    "        jd.append(jd0)\n",
    "    else:\n",
    "        jd.append(jd0)\n",
    "        order_=2\n",
    "    \n",
    "    try:\n",
    "        seniority_path = f'/html/body/main/section/div[2]/section[{order_}]/ul/li[1]/span'\n",
    "        seniority0 = job.find_element_by_xpath(seniority_path).get_attribute('innerText')\n",
    "        seniority.append(seniority0)\n",
    "    except:\n",
    "        print(company_name0)\n",
    "\n",
    "    emp_type_path = f'/html/body/main/section/div[2]/section[{order_}]/ul/li[2]/span'\n",
    "    emp_type0 = job.find_element_by_xpath(emp_type_path).get_attribute('innerText')\n",
    "    emp_type.append(emp_type0)\n",
    "    \n",
    "    job_func0=[]\n",
    "    industries0=[]\n",
    "    job_func_path = f'/html/body/main/section/div[2]/section[{order_}]/ul/li[3]/span'\n",
    "    job_func_elements = job.find_elements_by_xpath(job_func_path)\n",
    "    for element in job_func_elements:\n",
    "        job_func0.append(element.get_attribute('innerText'))\n",
    "        job_func_final = \",\".join(job_func0)\n",
    "    job_func[job_id0]=(job_func_final)\n",
    "    industries_path = '/html/body/main/section/div[2]/section[3]/ul/li[4]/span'\n",
    "    industries_elements = job.find_elements_by_xpath(industries_path)\n",
    "    for element in industries_elements:\n",
    "        industries0.append(element.get_attribute('innerText'))\n",
    "        industries_final = \",\".join(industries0)\n",
    "        industries[job_id0]=(industries_final)"
   ]
  },
  {
   "cell_type": "code",
   "execution_count": 106,
   "metadata": {},
   "outputs": [],
   "source": [
    "job_data = pd.DataFrame({'ID': job_id,\n",
    "'Date': date,\n",
    "'Company': company_name,\n",
    "'Title': job_title,\n",
    "'Location': location,\n",
    "'Description': jd,\n",
    "'Level': seniority,\n",
    "'num_Applicant': applicant_num,                       \n",
    "'Type': emp_type,\n",
    "'Job_Link': job_link,\n",
    "                         'Company_Link':company_link\n",
    "                    \n",
    "})\n",
    "# cleaning description column\n",
    "job_data['Description'] = job_data['Description'].str.replace('\\n',' ')\n",
    "#job_data.to_excel('LinkedIn Job Data_Data Scientist.xlsx', index = False)"
   ]
  },
  {
   "cell_type": "code",
   "execution_count": 108,
   "metadata": {},
   "outputs": [],
   "source": [
    "job_data = job_data.set_index('ID')"
   ]
  },
  {
   "cell_type": "code",
   "execution_count": 40,
   "metadata": {},
   "outputs": [
    {
     "ename": "NameError",
     "evalue": "name 'job_func' is not defined",
     "output_type": "error",
     "traceback": [
      "\u001b[1;31m---------------------------------------------------------------------------\u001b[0m",
      "\u001b[1;31mNameError\u001b[0m                                 Traceback (most recent call last)",
      "\u001b[1;32m<ipython-input-40-fda0c363c171>\u001b[0m in \u001b[0;36m<module>\u001b[1;34m\u001b[0m\n\u001b[1;32m----> 1\u001b[1;33m \u001b[0mFunction_table\u001b[0m \u001b[1;33m=\u001b[0m \u001b[0mpd\u001b[0m\u001b[1;33m.\u001b[0m\u001b[0mDataFrame\u001b[0m\u001b[1;33m(\u001b[0m\u001b[1;33m{\u001b[0m\u001b[1;34m\"ID\"\u001b[0m\u001b[1;33m:\u001b[0m\u001b[0mjob_func\u001b[0m\u001b[1;33m.\u001b[0m\u001b[0mkeys\u001b[0m\u001b[1;33m(\u001b[0m\u001b[1;33m)\u001b[0m\u001b[1;33m,\u001b[0m\u001b[1;34m\"Function\"\u001b[0m\u001b[1;33m:\u001b[0m\u001b[0mjob_func\u001b[0m\u001b[1;33m.\u001b[0m\u001b[0mvalues\u001b[0m\u001b[1;33m(\u001b[0m\u001b[1;33m)\u001b[0m\u001b[1;33m}\u001b[0m\u001b[1;33m)\u001b[0m\u001b[1;33m.\u001b[0m\u001b[0mset_index\u001b[0m\u001b[1;33m(\u001b[0m\u001b[1;34m\"ID\"\u001b[0m\u001b[1;33m)\u001b[0m\u001b[1;33m\u001b[0m\u001b[1;33m\u001b[0m\u001b[0m\n\u001b[0m\u001b[0;32m      2\u001b[0m \u001b[0mindustries_table\u001b[0m \u001b[1;33m=\u001b[0m \u001b[0mpd\u001b[0m\u001b[1;33m.\u001b[0m\u001b[0mDataFrame\u001b[0m\u001b[1;33m(\u001b[0m\u001b[1;33m{\u001b[0m\u001b[1;34m\"ID\"\u001b[0m\u001b[1;33m:\u001b[0m\u001b[0mindustries\u001b[0m\u001b[1;33m.\u001b[0m\u001b[0mkeys\u001b[0m\u001b[1;33m(\u001b[0m\u001b[1;33m)\u001b[0m\u001b[1;33m,\u001b[0m\u001b[1;34m\"Industries\"\u001b[0m\u001b[1;33m:\u001b[0m\u001b[0mindustries\u001b[0m\u001b[1;33m.\u001b[0m\u001b[0mvalues\u001b[0m\u001b[1;33m(\u001b[0m\u001b[1;33m)\u001b[0m\u001b[1;33m}\u001b[0m\u001b[1;33m)\u001b[0m\u001b[1;33m.\u001b[0m\u001b[0mset_index\u001b[0m\u001b[1;33m(\u001b[0m\u001b[1;34m\"ID\"\u001b[0m\u001b[1;33m)\u001b[0m\u001b[1;33m\u001b[0m\u001b[1;33m\u001b[0m\u001b[0m\n",
      "\u001b[1;31mNameError\u001b[0m: name 'job_func' is not defined"
     ]
    }
   ],
   "source": [
    "Function_table = pd.DataFrame({\"ID\":job_func.keys(),\"Function\":job_func.values()}).set_index(\"ID\")\n",
    "industries_table = pd.DataFrame({\"ID\":industries.keys(),\"Industries\":industries.values()}).set_index(\"ID\")"
   ]
  },
  {
   "cell_type": "code",
   "execution_count": 18,
   "metadata": {},
   "outputs": [
    {
     "ename": "NameError",
     "evalue": "name 'job_data' is not defined",
     "output_type": "error",
     "traceback": [
      "\u001b[1;31m---------------------------------------------------------------------------\u001b[0m",
      "\u001b[1;31mNameError\u001b[0m                                 Traceback (most recent call last)",
      "\u001b[1;32m<ipython-input-18-1785453806f8>\u001b[0m in \u001b[0;36m<module>\u001b[1;34m\u001b[0m\n\u001b[1;32m----> 1\u001b[1;33m \u001b[0mjob_data\u001b[0m\u001b[1;33m.\u001b[0m\u001b[0mjoin\u001b[0m\u001b[1;33m(\u001b[0m\u001b[0mFunction_table\u001b[0m\u001b[1;33m)\u001b[0m\u001b[1;33m.\u001b[0m\u001b[0mjoin\u001b[0m\u001b[1;33m(\u001b[0m\u001b[0mindustries_table\u001b[0m\u001b[1;33m)\u001b[0m\u001b[1;33m\u001b[0m\u001b[1;33m\u001b[0m\u001b[0m\n\u001b[0m",
      "\u001b[1;31mNameError\u001b[0m: name 'job_data' is not defined"
     ]
    }
   ],
   "source": [
    "job_data.join(Function_table).join(industries_table)"
   ]
  },
  {
   "cell_type": "code",
   "execution_count": 116,
   "metadata": {},
   "outputs": [],
   "source": [
    "#job_data.to_excel(\"Job_data1.xlsx\")"
   ]
  },
  {
   "cell_type": "code",
   "execution_count": 6,
   "metadata": {},
   "outputs": [],
   "source": [
    "#company_url = \"https://www.linkedin.com/company/google\""
   ]
  },
  {
   "cell_type": "code",
   "execution_count": 3,
   "metadata": {},
   "outputs": [],
   "source": [
    "job_data = pd.read_excel(\"Job_data1.xlsx\")"
   ]
  },
  {
   "cell_type": "code",
   "execution_count": 4,
   "metadata": {},
   "outputs": [
    {
     "data": {
      "text/html": [
       "<div>\n",
       "<style scoped>\n",
       "    .dataframe tbody tr th:only-of-type {\n",
       "        vertical-align: middle;\n",
       "    }\n",
       "\n",
       "    .dataframe tbody tr th {\n",
       "        vertical-align: top;\n",
       "    }\n",
       "\n",
       "    .dataframe thead th {\n",
       "        text-align: right;\n",
       "    }\n",
       "</style>\n",
       "<table border=\"1\" class=\"dataframe\">\n",
       "  <thead>\n",
       "    <tr style=\"text-align: right;\">\n",
       "      <th></th>\n",
       "      <th>ID</th>\n",
       "      <th>Date</th>\n",
       "      <th>Company</th>\n",
       "      <th>Title</th>\n",
       "      <th>Location</th>\n",
       "      <th>Description</th>\n",
       "      <th>Level</th>\n",
       "      <th>num_Applicant</th>\n",
       "      <th>Type</th>\n",
       "      <th>Job_Link</th>\n",
       "      <th>Company_Link</th>\n",
       "    </tr>\n",
       "  </thead>\n",
       "  <tbody>\n",
       "    <tr>\n",
       "      <th>0</th>\n",
       "      <td>2470598284</td>\n",
       "      <td>2021-03-31</td>\n",
       "      <td>RBC Capital Markets</td>\n",
       "      <td>Research Data Scientist</td>\n",
       "      <td>Toronto, Ontario, Canada</td>\n",
       "      <td>What is the opportunity?  Research Data Scient...</td>\n",
       "      <td>Not Applicable</td>\n",
       "      <td>29 applicants</td>\n",
       "      <td>Full-time</td>\n",
       "      <td>https://ca.linkedin.com/jobs/view/research-dat...</td>\n",
       "      <td>https://ca.linkedin.com/company/rbc-capital-ma...</td>\n",
       "    </tr>\n",
       "    <tr>\n",
       "      <th>1</th>\n",
       "      <td>2470572891</td>\n",
       "      <td>2021-03-30</td>\n",
       "      <td>Twitter</td>\n",
       "      <td>Data Scientist - Product Data Science</td>\n",
       "      <td>Toronto, Ontario, Canada</td>\n",
       "      <td>Company Description  Twitter serves the public...</td>\n",
       "      <td>Not Applicable</td>\n",
       "      <td>56 applicants</td>\n",
       "      <td>Full-time</td>\n",
       "      <td>https://ca.linkedin.com/jobs/view/data-scienti...</td>\n",
       "      <td>https://www.linkedin.com/company/twitter?trk=p...</td>\n",
       "    </tr>\n",
       "    <tr>\n",
       "      <th>2</th>\n",
       "      <td>2462807206</td>\n",
       "      <td>2021-03-15</td>\n",
       "      <td>Wish</td>\n",
       "      <td>Data Scientist</td>\n",
       "      <td>Toronto, Ontario, Canada</td>\n",
       "      <td>Company Description  Wish is a mobile e-commer...</td>\n",
       "      <td>Associate</td>\n",
       "      <td>Over 200 applicants</td>\n",
       "      <td>Full-time</td>\n",
       "      <td>https://ca.linkedin.com/jobs/view/data-scienti...</td>\n",
       "      <td>https://www.linkedin.com/company/wishshopping?...</td>\n",
       "    </tr>\n",
       "    <tr>\n",
       "      <th>3</th>\n",
       "      <td>2377887650</td>\n",
       "      <td>2021-01-23</td>\n",
       "      <td>Yelp</td>\n",
       "      <td>Data Scientist (Remote)</td>\n",
       "      <td>Toronto, Ontario, Canada</td>\n",
       "      <td>At Yelp, it’s our mission to connect people wi...</td>\n",
       "      <td>Entry level</td>\n",
       "      <td>Over 200 applicants</td>\n",
       "      <td>Full-time</td>\n",
       "      <td>https://ca.linkedin.com/jobs/view/data-scienti...</td>\n",
       "      <td>https://www.linkedin.com/company/yelp-com?trk=...</td>\n",
       "    </tr>\n",
       "    <tr>\n",
       "      <th>4</th>\n",
       "      <td>2482188080</td>\n",
       "      <td>2021-03-30</td>\n",
       "      <td>Shaw Communications</td>\n",
       "      <td>Data Scientist</td>\n",
       "      <td>Toronto, Ontario, Canada</td>\n",
       "      <td>A Little About Us  What we do at Shaw matters ...</td>\n",
       "      <td>Entry level</td>\n",
       "      <td>53 applicants</td>\n",
       "      <td>Full-time</td>\n",
       "      <td>https://ca.linkedin.com/jobs/view/data-scienti...</td>\n",
       "      <td>https://ca.linkedin.com/company/shaw-communica...</td>\n",
       "    </tr>\n",
       "  </tbody>\n",
       "</table>\n",
       "</div>"
      ],
      "text/plain": [
       "           ID        Date              Company  \\\n",
       "0  2470598284  2021-03-31  RBC Capital Markets   \n",
       "1  2470572891  2021-03-30              Twitter   \n",
       "2  2462807206  2021-03-15                 Wish   \n",
       "3  2377887650  2021-01-23                 Yelp   \n",
       "4  2482188080  2021-03-30  Shaw Communications   \n",
       "\n",
       "                                   Title                  Location  \\\n",
       "0                Research Data Scientist  Toronto, Ontario, Canada   \n",
       "1  Data Scientist - Product Data Science  Toronto, Ontario, Canada   \n",
       "2                         Data Scientist  Toronto, Ontario, Canada   \n",
       "3                Data Scientist (Remote)  Toronto, Ontario, Canada   \n",
       "4                         Data Scientist  Toronto, Ontario, Canada   \n",
       "\n",
       "                                         Description           Level  \\\n",
       "0  What is the opportunity?  Research Data Scient...  Not Applicable   \n",
       "1  Company Description  Twitter serves the public...  Not Applicable   \n",
       "2  Company Description  Wish is a mobile e-commer...       Associate   \n",
       "3  At Yelp, it’s our mission to connect people wi...     Entry level   \n",
       "4  A Little About Us  What we do at Shaw matters ...     Entry level   \n",
       "\n",
       "         num_Applicant       Type  \\\n",
       "0        29 applicants  Full-time   \n",
       "1        56 applicants  Full-time   \n",
       "2  Over 200 applicants  Full-time   \n",
       "3  Over 200 applicants  Full-time   \n",
       "4        53 applicants  Full-time   \n",
       "\n",
       "                                            Job_Link  \\\n",
       "0  https://ca.linkedin.com/jobs/view/research-dat...   \n",
       "1  https://ca.linkedin.com/jobs/view/data-scienti...   \n",
       "2  https://ca.linkedin.com/jobs/view/data-scienti...   \n",
       "3  https://ca.linkedin.com/jobs/view/data-scienti...   \n",
       "4  https://ca.linkedin.com/jobs/view/data-scienti...   \n",
       "\n",
       "                                        Company_Link  \n",
       "0  https://ca.linkedin.com/company/rbc-capital-ma...  \n",
       "1  https://www.linkedin.com/company/twitter?trk=p...  \n",
       "2  https://www.linkedin.com/company/wishshopping?...  \n",
       "3  https://www.linkedin.com/company/yelp-com?trk=...  \n",
       "4  https://ca.linkedin.com/company/shaw-communica...  "
      ]
     },
     "execution_count": 4,
     "metadata": {},
     "output_type": "execute_result"
    }
   ],
   "source": [
    "job_data.head()"
   ]
  },
  {
   "cell_type": "code",
   "execution_count": 20,
   "metadata": {},
   "outputs": [],
   "source": [
    "wd = webdriver.Edge(executable_path=\"./msedgedriver.exe\")"
   ]
  },
  {
   "cell_type": "code",
   "execution_count": 21,
   "metadata": {},
   "outputs": [],
   "source": [
    "wd.get('https://www.linkedin.com/login')\n",
    "\n",
    "nameidElem = wd.find_element_by_id('username')\n",
    "nameidElem.send_keys('farizabdussalam@yahoo.com')\n",
    "\n",
    "pwdidElem = wd.find_element_by_id('password')\n",
    "pwdidElem.send_keys('gravesquad47')\n",
    "\n",
    "sign_in = wd.find_element_by_xpath('//*[@id=\"organic-div\"]/form/div[3]/button').click()"
   ]
  },
  {
   "cell_type": "code",
   "execution_count": 155,
   "metadata": {},
   "outputs": [],
   "source": [
    "wd.get(\"https://ca.linkedin.com/company/rbc-capital-markets?trk=public_jobs_job-result-card_result-card_subtitle-click\")"
   ]
  },
  {
   "cell_type": "code",
   "execution_count": 166,
   "metadata": {},
   "outputs": [],
   "source": [
    "\n",
    "#wd.find_element_by_xpath('//*[@id=\"ember73\"]/span\"]').click()\n",
    "#employee_path = //*[@id=\"ember146\"]/section/dl/dd[3]'\n",
    "#employee_path = 'html/body/div[7]/div[3]/div/div/div/div[2]/main/div[2]/div/div/div[1]/section/dl/dd['\n",
    "#time.sleep(5)\n",
    "href_list = wd.find_elements_by_css_selector('a')\n"
   ]
  },
  {
   "cell_type": "code",
   "execution_count": 168,
   "metadata": {},
   "outputs": [],
   "source": [
    "for ob in href:\n",
    "    if \"about\" in ob.get_attribute(\"href\"):\n",
    "        time.sleep(5)\n",
    "        wd.get(ob.get_attribute(\"href\"))\n",
    "        break\n",
    "employee0 = wd.find_element_by_css_selector('[class=\"org-about-company-module__company-size-definition-text t-14 t-black--light mb1 fl\"]').get_attribute(\"innerText\")        "
   ]
  },
  {
   "cell_type": "code",
   "execution_count": 23,
   "metadata": {},
   "outputs": [
    {
     "ename": "NameError",
     "evalue": "name 'employee0' is not defined",
     "output_type": "error",
     "traceback": [
      "\u001b[1;31m---------------------------------------------------------------------------\u001b[0m",
      "\u001b[1;31mNameError\u001b[0m                                 Traceback (most recent call last)",
      "\u001b[1;32m<ipython-input-23-37aedbb9af7e>\u001b[0m in \u001b[0;36m<module>\u001b[1;34m\u001b[0m\n\u001b[1;32m----> 1\u001b[1;33m \u001b[0memployee0\u001b[0m\u001b[1;33m\u001b[0m\u001b[1;33m\u001b[0m\u001b[0m\n\u001b[0m",
      "\u001b[1;31mNameError\u001b[0m: name 'employee0' is not defined"
     ]
    }
   ],
   "source": [
    "employee0"
   ]
  },
  {
   "cell_type": "code",
   "execution_count": 33,
   "metadata": {},
   "outputs": [],
   "source": [
    "def get_num_employee(url):\n",
    "    if url == \"NA\":\n",
    "        num_employee = url\n",
    "    \n",
    "    else:\n",
    "        try:\n",
    "            wd.get(url)\n",
    "            num_employee = wd.find_element_by_css_selector('[class=\"org-about-company-module__company-size-definition-text t-14 t-black--light mb1 fl\"]').get_attribute(\"innerText\")\n",
    "        except:\n",
    "            href_list = wd.find_elements_by_css_selector('a')\n",
    "            for href in href_list:\n",
    "                link = href.get_attribute(\"href\")\n",
    "                if (\"about\" in link) and (\"linkedin\" in link) :\n",
    "                    wd.get(href.get_attribute(\"href\"))\n",
    "                    time.sleep(5) \n",
    "                    num_employee = wd.find_element_by_css_selector('[class=\"org-about-company-module__company-size-definition-text t-14 t-black--light mb1 fl\"]').get_attribute(\"innerText\")\n",
    "                    break\n",
    "                else:\n",
    "                    continue\n",
    "                \n",
    "    return num_employee"
   ]
  },
  {
   "cell_type": "code",
   "execution_count": 29,
   "metadata": {},
   "outputs": [],
   "source": [
    "def get_link(url):\n",
    "    if url == \"NA\":\n",
    "        num_employee = url\n",
    "    else:\n",
    "        try:\n",
    "            wd.get(url)\n",
    "            num_employee = wd.find_element_by_css_selector('[class=\"org-about-company-module__company-size-definition-text t-14 t-black--light mb1 fl\"]').get_attribute(\"innerText\")\n",
    "            return num_employee\n",
    "        except:\n",
    "            href_list = wd.find_elements_by_css_selector('a')\n",
    "            for href in href_list:\n",
    "                if \"about\" and \"linkedin\" in href.get_attribute(\"href\"):\n",
    "                    return href.get_attribute(\"href\")\n",
    "                    break\n",
    "                \n",
    "        \n",
    "            "
   ]
  },
  {
   "cell_type": "code",
   "execution_count": 31,
   "metadata": {},
   "outputs": [],
   "source": [
    "sample = job_data.sample(n=2)"
   ]
  },
  {
   "cell_type": "code",
   "execution_count": 23,
   "metadata": {},
   "outputs": [
    {
     "name": "stdout",
     "output_type": "stream",
     "text": [
      "https://www.linkedin.com/company/altair-engineering/about/\n",
      "https://www.linkedin.com/company/lotusflare/about/\n",
      "https://www.linkedin.com/company/wealthsimple/about/\n",
      "https://www.linkedin.com/company/zynga/about/\n",
      "https://www.linkedin.com/company/peoplemachine/about/\n"
     ]
    }
   ],
   "source": [
    "for link in sample[\"Company_Link\"]:\n",
    "    print(get_link(link))"
   ]
  },
  {
   "cell_type": "code",
   "execution_count": 34,
   "metadata": {},
   "outputs": [],
   "source": [
    "sample[\"Employee_Size\"] = sample[\"Company_Link\"].apply(get_num_employee)"
   ]
  },
  {
   "cell_type": "code",
   "execution_count": 35,
   "metadata": {},
   "outputs": [
    {
     "data": {
      "text/plain": [
       "1     1,001-5,000 employees\n",
       "11          11-50 employees\n",
       "Name: Employee_Size, dtype: object"
      ]
     },
     "execution_count": 35,
     "metadata": {},
     "output_type": "execute_result"
    }
   ],
   "source": [
    "sample[\"Employee_Size\"]"
   ]
  },
  {
   "cell_type": "code",
   "execution_count": 36,
   "metadata": {},
   "outputs": [],
   "source": [
    "job_data[\"Employee_Size\"] = job_data[\"Company_Link\"].apply(get_num_employee)"
   ]
  },
  {
   "cell_type": "code",
   "execution_count": 39,
   "metadata": {},
   "outputs": [],
   "source": [
    "job_data.to_excel(\"job_data2.xlsx\", index=False)"
   ]
  },
  {
   "cell_type": "code",
   "execution_count": null,
   "metadata": {},
   "outputs": [],
   "source": []
  }
 ],
 "metadata": {
  "kernelspec": {
   "display_name": "Python 3",
   "language": "python",
   "name": "python3"
  },
  "language_info": {
   "codemirror_mode": {
    "name": "ipython",
    "version": 3
   },
   "file_extension": ".py",
   "mimetype": "text/x-python",
   "name": "python",
   "nbconvert_exporter": "python",
   "pygments_lexer": "ipython3",
   "version": "3.8.5"
  }
 },
 "nbformat": 4,
 "nbformat_minor": 4
}
